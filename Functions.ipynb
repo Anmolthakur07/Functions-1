{
  "nbformat": 4,
  "nbformat_minor": 0,
  "metadata": {
    "colab": {
      "provenance": []
    },
    "kernelspec": {
      "name": "python3",
      "display_name": "Python 3"
    },
    "language_info": {
      "name": "python"
    }
  },
  "cells": [
    {
      "cell_type": "markdown",
      "source": [
        "# Functions\n",
        "\n",
        "1. What is the difference between a function and a method in Python?\n",
        " - Function:\n",
        "A function is a block of code that performs a specific task.\n",
        "Functions are defined using the def keyword and can be called independently.\n",
        "Functions are not bound to any object, meaning they exist on their own in the program.\n",
        " - Method:\n",
        "A method is a function that is associated with an object usually an instance of a class.\n",
        "Methods are defined within a class and are called on an instance of that class or the class itself, for class methods.\n",
        "Methods always take at least one argument, which is the object itself commonly referred to as self.\n",
        "2.  Explain the concept of function arguments and parameters in Python.\n",
        " -  Parameters:\n",
        "Parameters are variables that are defined in the function definition. They act as placeholders for the values that will be passed to the function when it's called.\n",
        "These are the names used inside the function to refer to the values that are passed in.\n",
        " -Arguments are the actual values that are passed to the function when it is called. These values replace the parameters.\n",
        "Arguments can be passed in two ways:\n",
        "Positional arguments: Passed in a specific order corresponding to the order of the parameters.\n",
        "\n",
        "  - Keyword arguments: Passed by explicitly naming the parameter when calling the function.\n",
        "3. What are the different ways to define and call a function in Python?\n",
        "   - In Python, functions can be defined and called in various ways depending on the context and requirements.\n",
        "   - Defining a function:-\n",
        "     - Use the def keyword.\n",
        "     - Write the function name.\n",
        "     - Add parentheses and a colon.\n",
        "     - Indent with a tab or four spaces.\n",
        "     - Specify what the function should do.\n",
        "   - Calling a function:-\n",
        "     - You can call a function from anywhere in the program.\n",
        "     - You can use built-in functions, which are pre-defined in Python.\n",
        "     - You can use variable-length arguments, which are declared with an asterisk (*).\n",
        "     - You can use arbitrary keyword arguments, which are declared with two asterisks (**) before the parameter name.\n",
        "\n",
        "4. What is the purpose of the `return` statement in a Python function?\n",
        "   - The return statement in Python ends a function and sends a value back to the caller. This allows the function's output to be used in other parts of the program.\n",
        "   - How it works:-\n",
        "     - The return statement ends the function's execution.\n",
        "     - The return statement passes the value back to the caller.\n",
        "     - The caller can use the returned value for further computations or storage.\n",
        "   - What it returns:-\n",
        "     - The return statement can return any type of data, including integers, floats, strings, lists, dictionaries, and other functions.\n",
        "     - If no return statement is used, or if a return statement is used without a value, the function returns None.\n",
        "\n",
        "5. What are iterators in Python and how do they differ from iterables?\n",
        "  - In Python, iterators and iterables are related but distinct concepts. They are both used for looping over sequences of data, but they function differently.\n",
        "  - Iterators:-\n",
        "  An iterator is an object that remembers its position during iteration.\n",
        "  It has:\n",
        "    - __iter__() Returns the iterator itself.\n",
        "    - __next__() Returns the next item in the sequence.\n",
        "   \n",
        "   An iterator does not store all elements in memory at once, making it more memory-efficient than an iterable.\n",
        "    \n",
        "  - Iterables:-\n",
        " An iterable is any Python object that can be looped over (iterated through). It has a special method called __iter__() that returns an iterator.\n",
        "    - Examples of Iterables:\n",
        "Lists, Tuples, Strings, Dictionaries, Sets\n",
        "Any object that implements __iter__()\n",
        "\n",
        "6. Explain the concept of generators in Python and how they are defined.\n",
        "  - A generator in Python is a special type of iterator that allows you to yield values one at a time instead of returning them all at once. This makes generators memory-efficient because they do not store all values in memory like lists do. Instead, they generate values on the fly.\n",
        "    - How to Define a Generator :-\n",
        "A generator is defined using a function with the yield keyword instead of return.\n",
        "\n",
        "7.  What are the advantages of using generators over regular functions?\n",
        "   - Generators provide several advantages over regular functions, especially when dealing with large datasets, streaming data, or memory-intensive tasks.\n",
        "     - Memory Efficiency (Lazy Evaluation).\n",
        "     - Faster Execution Time.\n",
        "     - Ability to handle the infinite sequences.\n",
        "     - Simpler and Cleaner Code.\n",
        "     - Automatic State Retention.\n",
        "     - Easy to Work with Large Data.\n",
        "     - Enhanced Performance in Pipelines.\n",
        "     - Supports Parallelism and Asynchronous Processing.\n",
        "\n",
        "8. What is a lambda function in Python and when is it typically used?      \n",
        "  - A lambda function in Python is a small, anonymous function that's used for simple operations. They're often used in functional programming contexts, and are particularly useful for one-time use functions.\n",
        "  - When to use a lambda function :-\n",
        "     - Short,throwaway operations: When a full function definition would be overkill.\n",
        "     - Basic data transformations: When you need a quick, simple function for a brief period.\n",
        "     - Basic data transformations: When you need a quick, simple function for a brief period.\n",
        "     - Data science: When you need to manipulate values in a series or data frame.\n",
        "\n",
        "9. Explain the purpose and usage of the `map()` function in Python.\n",
        "  - The map() function in Python is used to apply a function to every item in an iterable (like a list or tuple) and return a new iterable (map object). It is commonly used for transforming data efficiently without using explicit loops.\n",
        "     - Syntax :- map()     \n",
        "  \n",
        "10. What is the difference between `map()`, `reduce()`, and `filter()` functions in Python?\n",
        "   - The map(), reduce(), and filter() functions are part of Python’s functional programming tools. They all take a function and an iterable but serve different purposes.\n",
        "\n",
        "     - map() :- Applies a function to each item in an iterable and returns a new iterable.\n",
        "     - reduce() :- Reduces an iterable to a single value by applying a function cumulatively.\n",
        "     - filter :- Filters elements based on a condition (returns only True values).\n",
        "\n",
        "# Practical Questions\n",
        "     \n"
      ],
      "metadata": {
        "id": "qa2Cb8FAOhJo"
      }
    },
    {
      "cell_type": "code",
      "source": [
        "1. #Write a Python function that takes a list of numbers as input and returns the sum of all even numbers in\n",
        "#the list.\n",
        "def sum_even_numbers(numbers):\n",
        "    return sum(filter(lambda x: x % 2 == 0, numbers))\n",
        "\n",
        "# Example usage\n",
        "nums = [1, 2, 3, 4, 5, 6, 7, 8, 9, 10]\n",
        "print(sum_even_numbers(nums))\n",
        "\n",
        "\n",
        "\n"
      ],
      "metadata": {
        "colab": {
          "base_uri": "https://localhost:8080/"
        },
        "id": "gWPwQCRlk3AL",
        "outputId": "ece1bc45-02fb-49f1-9f5a-08541169bd89"
      },
      "execution_count": 5,
      "outputs": [
        {
          "output_type": "stream",
          "name": "stdout",
          "text": [
            "30\n"
          ]
        }
      ]
    },
    {
      "cell_type": "code",
      "source": [
        "2. # Create a Python function that accepts a string and returns the reverse of that string.\n",
        "def process_string(a):\n",
        "     print(f\"The string you entered is: {a}\")\n",
        "     return len(a)\n",
        "result = process_string(\"Anmol Thakur!\")\n",
        "print(f\"The length of the string is: {result}\")\n"
      ],
      "metadata": {
        "colab": {
          "base_uri": "https://localhost:8080/"
        },
        "id": "Yw0hcAd6mesj",
        "outputId": "dd8f0d72-8354-4d17-d5d4-2f7b8da011f9"
      },
      "execution_count": 13,
      "outputs": [
        {
          "output_type": "stream",
          "name": "stdout",
          "text": [
            "The string you entered is: Anmol Thakur!\n",
            "The length of the string is: 13\n"
          ]
        }
      ]
    },
    {
      "cell_type": "code",
      "source": [
        "# reverse of that string.\n",
        "def process_string(a):\n",
        "    print(f\"The string you entered is: {a}\")\n",
        "    reversed_string = a[::-1]\n",
        "    return len(a), reversed_string\n",
        "result, reversed_str = process_string(\"Anmol Thakur!\")\n",
        "print(f\"The length of the string is: {result}\")\n",
        "print(f\"The reverse of the string is: {reversed_str}\")"
      ],
      "metadata": {
        "colab": {
          "base_uri": "https://localhost:8080/"
        },
        "id": "rY8nC-yavjT3",
        "outputId": "d2511035-7c25-4dc5-e19d-f792908dff67"
      },
      "execution_count": 17,
      "outputs": [
        {
          "output_type": "stream",
          "name": "stdout",
          "text": [
            "The string you entered is: Anmol Thakur!\n",
            "The length of the string is: 13\n",
            "The reverse of the string is: !rukahT lomnA\n"
          ]
        }
      ]
    },
    {
      "cell_type": "code",
      "source": [
        "3. #Implement a Python function that takes a list of integers and returns a new list containing the squares of\n",
        "#each number.\n",
        "def square_numbers(numbers):\n",
        "    return [x ** 2 for x in numbers]\n",
        "nums = [5, 7, 9, 11, 13]\n",
        "print(square_numbers(nums))"
      ],
      "metadata": {
        "colab": {
          "base_uri": "https://localhost:8080/"
        },
        "id": "bOneM8NawXG4",
        "outputId": "7c63bfd5-1d99-4865-9b03-01c3245a50f7"
      },
      "execution_count": 19,
      "outputs": [
        {
          "output_type": "stream",
          "name": "stdout",
          "text": [
            "[25, 49, 81, 121, 169]\n"
          ]
        }
      ]
    },
    {
      "cell_type": "code",
      "source": [
        "4. #Write a Python function that checks if a given number is prime or not from 1 to 200.\n",
        "def is_prime(n):\n",
        "    if n <= 1:\n",
        "        return False\n",
        "    for i in range(2, int(n**0.5) + 1):\n",
        "        if n % i == 0:\n",
        "           return False\n",
        "    return True\n",
        "for num in range(1, 201):\n",
        "    if is_prime(num):\n",
        "        print(num, \"is prime.\")"
      ],
      "metadata": {
        "colab": {
          "base_uri": "https://localhost:8080/"
        },
        "id": "k3OuV1Zyw2VA",
        "outputId": "6488fed8-0891-4737-e942-80ac9fcb2723"
      },
      "execution_count": 27,
      "outputs": [
        {
          "output_type": "stream",
          "name": "stdout",
          "text": [
            "2 is prime.\n",
            "3 is prime.\n",
            "5 is prime.\n",
            "7 is prime.\n",
            "11 is prime.\n",
            "13 is prime.\n",
            "17 is prime.\n",
            "19 is prime.\n",
            "23 is prime.\n",
            "29 is prime.\n",
            "31 is prime.\n",
            "37 is prime.\n",
            "41 is prime.\n",
            "43 is prime.\n",
            "47 is prime.\n",
            "53 is prime.\n",
            "59 is prime.\n",
            "61 is prime.\n",
            "67 is prime.\n",
            "71 is prime.\n",
            "73 is prime.\n",
            "79 is prime.\n",
            "83 is prime.\n",
            "89 is prime.\n",
            "97 is prime.\n",
            "101 is prime.\n",
            "103 is prime.\n",
            "107 is prime.\n",
            "109 is prime.\n",
            "113 is prime.\n",
            "127 is prime.\n",
            "131 is prime.\n",
            "137 is prime.\n",
            "139 is prime.\n",
            "149 is prime.\n",
            "151 is prime.\n",
            "157 is prime.\n",
            "163 is prime.\n",
            "167 is prime.\n",
            "173 is prime.\n",
            "179 is prime.\n",
            "181 is prime.\n",
            "191 is prime.\n",
            "193 is prime.\n",
            "197 is prime.\n",
            "199 is prime.\n"
          ]
        }
      ]
    },
    {
      "cell_type": "code",
      "execution_count": 37,
      "metadata": {
        "id": "Thf7zPDtOZ9m",
        "colab": {
          "base_uri": "https://localhost:8080/"
        },
        "outputId": "c1a661e3-0614-4429-c35b-fea57462bc4a"
      },
      "outputs": [
        {
          "output_type": "stream",
          "name": "stdout",
          "text": [
            "200\n"
          ]
        }
      ],
      "source": [
        "5. # Create an iterator class in Python that generates the Fibonacci sequence up to a specified number of\n",
        "#terms.\n",
        "class FibonacciIterator:\n",
        "    def __init__(self, n):\n",
        "      self.n = n\n",
        "      self.a, self.b = 0, 1\n",
        "\n",
        "      def __iter__(self):\n",
        "         return self\n",
        "         def __next__(self):\n",
        "            if self.n <= 0:\n",
        "              raise StopIteration\n",
        "            result = self.a\n",
        "            self.a, self.b = self.b, self.a + self.b\n",
        "            self.n -= 1\n",
        "            return fib_number\n",
        "            fib = FibonacciIterator(10)\n",
        "    print(num)\n",
        "\n"
      ]
    },
    {
      "cell_type": "code",
      "source": [
        "6. #Write a generator function in Python that yields the powers of 2 up to a given exponent.\n",
        "def powers_of_2(exponent):\n",
        "    for i in range(exponent + 1):\n",
        "        yield 2 ** i\n",
        "\n",
        "for power in powers_of_2(5):\n",
        "    print(power)"
      ],
      "metadata": {
        "colab": {
          "base_uri": "https://localhost:8080/"
        },
        "id": "mS7V8EYZzCpx",
        "outputId": "b5854f05-b6a0-47fd-cba2-33f67bfce03b"
      },
      "execution_count": 38,
      "outputs": [
        {
          "output_type": "stream",
          "name": "stdout",
          "text": [
            "1\n",
            "2\n",
            "4\n",
            "8\n",
            "16\n",
            "32\n"
          ]
        }
      ]
    },
    {
      "cell_type": "code",
      "source": [
        "7. #Implement a generator function that reads a file line by line and yields each line as a string.\n",
        "def read_file_line_by_line(file_path):\n",
        "    \"\"\"Generator function to read a file line by line.\"\"\"\n",
        "    with open(file_path, 'r') as file:\n",
        "        for line in file:\n",
        "            yield line.strip()\n",
        "\n",
        "file_path = \"/content/sample_data/README.md\"\n",
        "\n",
        "for line in read_file_line_by_line(file_path):\n",
        "    print(line)\n"
      ],
      "metadata": {
        "colab": {
          "base_uri": "https://localhost:8080/"
        },
        "id": "xTIPZgYd2vgs",
        "outputId": "f1b7c9dc-665e-4401-b3f0-31923345b704"
      },
      "execution_count": 13,
      "outputs": [
        {
          "output_type": "stream",
          "name": "stdout",
          "text": [
            "This directory includes a few sample datasets to get you started.\n",
            "\n",
            "*   `california_housing_data*.csv` is California housing data from the 1990 US\n",
            "Census; more information is available at:\n",
            "https://docs.google.com/document/d/e/2PACX-1vRhYtsvc5eOR2FWNCwaBiKL6suIOrxJig8LcSBbmCbyYsayia_DvPOOBlXZ4CAlQ5nlDD8kTaIDRwrN/pub\n",
            "\n",
            "*   `mnist_*.csv` is a small sample of the\n",
            "[MNIST database](https://en.wikipedia.org/wiki/MNIST_database), which is\n",
            "described at: http://yann.lecun.com/exdb/mnist/\n",
            "\n",
            "*   `anscombe.json` contains a copy of\n",
            "[Anscombe's quartet](https://en.wikipedia.org/wiki/Anscombe%27s_quartet); it\n",
            "was originally described in\n",
            "\n",
            "Anscombe, F. J. (1973). 'Graphs in Statistical Analysis'. American\n",
            "Statistician. 27 (1): 17-21. JSTOR 2682899.\n",
            "\n",
            "and our copy was prepared by the\n",
            "[vega_datasets library](https://github.com/altair-viz/vega_datasets/blob/4f67bdaad10f45e3549984e17e1b3088c731503d/vega_datasets/_data/anscombe.json).\n"
          ]
        }
      ]
    },
    {
      "cell_type": "code",
      "source": [
        "8. #Use a lambda function in Python to sort a list of tuples based on the second element of each tuple.\n",
        "tuples_list = [(1, 3), (2, 2), (4, 1), (3, 4)]\n",
        "\n",
        "sorted_list = sorted(tuples_list, key=lambda x: x[1])\n",
        "\n",
        "print(sorted_list)"
      ],
      "metadata": {
        "colab": {
          "base_uri": "https://localhost:8080/"
        },
        "id": "jN1EZjwX8q-i",
        "outputId": "ef641387-121a-46ee-ec1f-425bbbbf7055"
      },
      "execution_count": 47,
      "outputs": [
        {
          "output_type": "stream",
          "name": "stdout",
          "text": [
            "[(4, 1), (2, 2), (1, 3), (3, 4)]\n"
          ]
        }
      ]
    },
    {
      "cell_type": "code",
      "source": [
        "9. #Write a Python program that uses `map()` to convert a list of temperatures from Celsius to Fahrenheit.\n",
        "\n",
        "def celsius_to_fahrenheit(celsius):\n",
        "    return (celsius * 9/5) + 32\n",
        "\n",
        "celsius_temps = [0, 2, 7, 9, 10, 20]\n",
        "\n",
        "fahrenheit_temps = map(celsius_to_fahrenheit, celsius_temps)\n",
        "\n",
        "print(list(fahrenheit_temps))"
      ],
      "metadata": {
        "colab": {
          "base_uri": "https://localhost:8080/"
        },
        "id": "tyEyEO6y9Gy9",
        "outputId": "f75c976c-fdba-4010-ed9e-044584f5c245"
      },
      "execution_count": 49,
      "outputs": [
        {
          "output_type": "stream",
          "name": "stdout",
          "text": [
            "[32.0, 35.6, 44.6, 48.2, 50.0, 68.0]\n"
          ]
        }
      ]
    },
    {
      "cell_type": "code",
      "source": [
        "10. #Create a Python program that uses `filter()` to remove all the vowels from a given string.\n",
        "def remove_vowels(s):\n",
        "    vowels = \"aeiouAEIOU\"\n",
        "    return \"\".join(filter(lambda char: char not in vowels, s))\n",
        "\n",
        "input_string = \"Anmol Thakur\"\n",
        "result = remove_vowels(input_string)\n",
        "\n",
        "print(result)"
      ],
      "metadata": {
        "colab": {
          "base_uri": "https://localhost:8080/"
        },
        "id": "3gUU2xxk91Xt",
        "outputId": "adb028c1-ba27-43c5-ef1d-ad3c80026f40"
      },
      "execution_count": 51,
      "outputs": [
        {
          "output_type": "stream",
          "name": "stdout",
          "text": [
            "nml Thkr\n"
          ]
        }
      ]
    },
    {
      "cell_type": "code",
      "source": [
        "11. #Imagine an accounting routine used in a book shop. It works on a list with sublists.\n",
        "orders=[[\"34587\", \"Learning Python, Mark Lutz\", 4,40.95],\n",
        "        [\"98762\", \"Programming Python, Mark Lutz\", 5,56.80],\n",
        "        [\"77226\", \"Head First Python, Paul Barry\", 3,32.95],\n",
        "        [\"88112\", \"Python Cookbook, David Beazley\",3,24.99]]\n",
        "result = list(map(lambda x: (x[0], x[2] * x[3]) if x[2] * x[3] < 100 else (x[2]*x[3]), orders))\n",
        "print(result)"
      ],
      "metadata": {
        "colab": {
          "base_uri": "https://localhost:8080/"
        },
        "id": "FCqy3Zk4-eWV",
        "outputId": "a46a17a9-9637-4fec-fd68-5dc68c4fa398"
      },
      "execution_count": 5,
      "outputs": [
        {
          "output_type": "stream",
          "name": "stdout",
          "text": [
            "[163.8, 284.0, ('77226', 98.85000000000001), ('88112', 74.97)]\n"
          ]
        }
      ]
    }
  ]
}